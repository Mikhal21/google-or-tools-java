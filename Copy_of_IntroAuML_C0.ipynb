{
  "nbformat": 4,
  "nbformat_minor": 0,
  "metadata": {
    "colab": {
      "provenance": [],
      "collapsed_sections": [
        "WhQ4tOTZ3eIe"
      ],
      "include_colab_link": true
    },
    "kernelspec": {
      "name": "python3",
      "display_name": "Python 3"
    },
    "language_info": {
      "name": "python"
    }
  },
  "cells": [
    {
      "cell_type": "markdown",
      "metadata": {
        "id": "view-in-github",
        "colab_type": "text"
      },
      "source": [
        "<a href=\"https://colab.research.google.com/github/Mikhal21/google-or-tools-java/blob/master/Copy_of_IntroAuML_C0.ipynb\" target=\"_parent\"><img src=\"https://colab.research.google.com/assets/colab-badge.svg\" alt=\"Open In Colab\"/></a>"
      ]
    },
    {
      "cell_type": "markdown",
      "source": [
        "# Preambule\n",
        "\n",
        "Run this code to import modules and define some functions that may result useful"
      ],
      "metadata": {
        "id": "WhQ4tOTZ3eIe"
      }
    },
    {
      "cell_type": "code",
      "execution_count": 2,
      "metadata": {
        "id": "ThxL-8KkU0Ta"
      },
      "outputs": [],
      "source": [
        "import numpy as np\n",
        "import matplotlib.pyplot as plt\n",
        "from numpy.random import MT19937, RandomState, SeedSequence\n",
        "from collections import Counter\n",
        "import sklearn\n"
      ]
    },
    {
      "cell_type": "code",
      "source": [
        "# Functions to simplify plotting\n",
        "\n",
        "def hard_split(z_orig, threshold = 0.0, eps = 1e-5):\n",
        "    ''' Turns a decision functions or score into hard labels\n",
        "    '''\n",
        "    z = z_orig.copy()\n",
        "    z[z>threshold+eps] = 1\n",
        "    z[z<threshold-eps] = -1\n",
        "    return z\n",
        "\n",
        "def getXYRange2D(X):\n",
        "    ''' Return the limits for a 2d scatter plot of points\n",
        "            X is of shape n x 2 where n is the number of points\n",
        "            returns xmin, xmax, ymin, ymax\n",
        "    '''\n",
        "    return min(X[:,0]), max(X[:,0]),min(X[:,1]), max(X[:,1])"
      ],
      "metadata": {
        "id": "5eEeFfWT2xyn"
      },
      "execution_count": 3,
      "outputs": []
    },
    {
      "cell_type": "markdown",
      "source": [
        "# Example with linear models for regression"
      ],
      "metadata": {
        "id": "IZpLsqx48_ZU"
      }
    },
    {
      "cell_type": "markdown",
      "source": [
        "1. Use `sklearn` [linear model](https://scikit-learn.org/stable/modules/linear_model.html) to estimate a linear model using least squares and the folowing data\n",
        "\n",
        "<center>\n",
        "\n",
        "| x | y   |\n",
        "|---|-----|\n",
        "| 1 | 1   |\n",
        "| 9 | 9.5 |\n",
        "| 9 | 2.5 |\n",
        "\n",
        "</center>\n",
        "\n",
        "2. Plot the data and the obtained linear function\n",
        "\n",
        "\n",
        "\n",
        "\n"
      ],
      "metadata": {
        "id": "c5b_k8xJ9EiT"
      }
    },
    {
      "cell_type": "code",
      "source": [
        "X = np.array([[1],\n",
        "              [9],\n",
        "              [9]\n",
        "              ])\n",
        "Y = np.array([1,\n",
        "              9.5,\n",
        "              2.5])\n",
        "\n",
        "# Create and fit the model\n",
        "from sklearn import linear_model\n",
        "reg = linear_model.LinearRegression()\n",
        "reg.fit(X,Y)\n",
        "\n",
        "\n",
        "\n",
        "# Plot\n",
        "Y_pred = reg.predict(X)\n",
        "plt.plot(X, Y_pred, color=\"purple\", linewidth=3)"
      ],
      "metadata": {
        "id": "PaP4YZEq9ELv",
        "colab": {
          "base_uri": "https://localhost:8080/",
          "height": 282
        },
        "outputId": "5c0361e0-398e-4da3-abeb-06b3cf7107b9"
      },
      "execution_count": 4,
      "outputs": [
        {
          "output_type": "execute_result",
          "data": {
            "text/plain": [
              "[<matplotlib.lines.Line2D at 0x7f1702869450>]"
            ]
          },
          "metadata": {},
          "execution_count": 4
        },
        {
          "output_type": "display_data",
          "data": {
            "text/plain": [
              "<Figure size 432x288 with 1 Axes>"
            ],
            "image/png": "[encoded data removed]"
          },
          "metadata": {
            "needs_background": "light"
          }
        }
      ]
    },
    {
      "cell_type": "markdown",
      "source": [
        "Now let us try another interesting situation. On the last example we had two points with the same $x$ component and different $y$ component and the resulting linear function passed on the middle of the two $y$.\n",
        "\n",
        "Now imagine we have many points clustered around one of the two original points. What happens to the resulting model?\n",
        "\n",
        "3. Repeat the last example but instead of ony 3 points, add a few points around on the two points that had the same $x$ coordinate"
      ],
      "metadata": {
        "id": "kYCDupUu_zzK"
      }
    },
    {
      "cell_type": "code",
      "source": [
        "X = np.array([[1],\n",
        "              [9],\n",
        "              [9]\n",
        "              ])\n",
        "Y = np.array([1,\n",
        "              9.5,\n",
        "              2.5])\n",
        "\n",
        "# Add the new points to our dataset\n",
        "\"\"\" Your code here \"\"\"\n",
        "\n",
        "# Fit model\n",
        "\"\"\" Your code here \"\"\"\n",
        "\n",
        "# Plot\n",
        "\"\"\" Your code here \"\"\""
      ],
      "metadata": {
        "id": "aO7nX_-SLhsm"
      },
      "execution_count": null,
      "outputs": []
    },
    {
      "cell_type": "markdown",
      "source": [
        "Having seen the behaviour of the estimated linear model with the new points, what can you say about the linear model learned using least squares?\n",
        "\n",
        "\n",
        "**BONUS**: We could state the least squares problem but minimizing a different function that measures the error between observations and predictions. What happens if instead of the squared error $(\\hat{y} - y)^2$ we use the absolute error $| \\hat{y} - y |$? "
      ],
      "metadata": {
        "id": "KJukDR9-mTp7"
      }
    },
    {
      "cell_type": "markdown",
      "source": [
        "# ESL Section 2.3 example\n",
        "\n",
        "In this example we are going to try to classify some synthetic data using a linear model and a k-nearest neighbors model.\n",
        "\n",
        "We want to:\n",
        "\n",
        "- Get a first impression on the effect of the parameter $k$ in the resulting classifier looking at the decision function.\n",
        "- Relate the effect of the parameter $k$ to the concepts of over and under fitting\n",
        "- Evaluate the capacity of a simple linear model in the classification setting\n"
      ],
      "metadata": {
        "id": "4TtLASzqVuDM"
      }
    },
    {
      "cell_type": "markdown",
      "source": [
        "## Generate data\n",
        "\n",
        "Authors created data by first setting 10 points for each class following distributions $\\mathcal{N}((1,0), \\mathbb{I})$ and $\\mathcal{N}((1,0), \\mathbb{I})$. Then each other point is generated as follows:\n",
        "\n",
        "For each class, do 100 times the following:\n",
        "\n",
        "- Choose uniformly at random one of the 10 base points $m_k$ of the given class\n",
        "- Sample a point from the distribution $\\mathcal{N}(m_k, \\mathbb{I}/5)$\n",
        "\n",
        "\n",
        "\n",
        "Generate the data and plot it"
      ],
      "metadata": {
        "id": "ritJNh7bVzqr"
      }
    },
    {
      "cell_type": "code",
      "source": [
        "def generate_example_data(N = 100, seed = 111):\n",
        "\n",
        "    # Set seed\n",
        "    rs = RandomState(MT19937(SeedSequence(seed)))\n",
        "\n",
        "    \"\"\" Your code here \"\"\"\n",
        "\n",
        "    return X, Y\n",
        "\n",
        "# Plot data colored by class\n",
        "\"\"\" Your code here \"\"\""
      ],
      "metadata": {
        "id": "InCP5BkGVsg1"
      },
      "execution_count": null,
      "outputs": []
    },
    {
      "cell_type": "markdown",
      "source": [
        "## Linear model using least squares\n",
        "\n",
        "Learn a linear model trying to fit the labels as if they were continous. To turn the regression model into a classifier we will use the following decision rule to predict a class $\\hat{y} \\in \\lbrace 0, 1 \\rbrace$:\n",
        "\n",
        "$$\\hat{y} = 1  \\text{ if } f(x) \\gt 0.5 \\text{, } 0 \\text{ otherwise.}$$\n",
        "\n",
        "\n",
        "Plot the data and the resulting classifier. \n",
        "\n",
        "*Hint: You can have a look at the functions [contour](https://matplotlib.org/stable/api/_as_gen/matplotlib.pyplot.contour.html) and [contourf](https://matplotlib.org/stable/api/_as_gen/matplotlib.pyplot.contourf.html) of `matplotlib` to get a nice plot.*"
      ],
      "metadata": {
        "id": "XkMTZLXszxAK"
      }
    },
    {
      "cell_type": "code",
      "source": [
        "# Define and fit model\n",
        "\"\"\" Your code here \"\"\"\n",
        "\n",
        "# Plot\n",
        "\"\"\" Your code here \"\"\""
      ],
      "metadata": {
        "id": "anbvWXsHbC5F"
      },
      "execution_count": null,
      "outputs": []
    },
    {
      "cell_type": "markdown",
      "source": [
        "## Nearest neighbors\n",
        "\n",
        "Create a nearest neighbors classifier and plot the decision regions"
      ],
      "metadata": {
        "id": "NqX8A_ak8vyh"
      }
    },
    {
      "cell_type": "code",
      "source": [
        "# Define and fit model\n",
        "\"\"\" Your code here \"\"\"\n",
        "\n",
        "# Plot\n",
        "\"\"\" Your code here \"\"\""
      ],
      "metadata": {
        "id": "wuu39UCG6BWc"
      },
      "execution_count": null,
      "outputs": []
    },
    {
      "cell_type": "markdown",
      "source": [
        "Now that we can train and evaluate a nearest neighbors model we are going to see how the train and test error behaves with respect to $k$\n",
        "\n",
        "1. Plot the accuracy on the training set of the model with respect to the parameter $k$\n",
        "2. Plot now the accuracy on a test set (new data produced using the same data generation process)\n",
        "3. Plot also the accuracy of the linear classifier to compare it with the KNN"
      ],
      "metadata": {
        "id": "r4PQgdDNP60Y"
      }
    },
    {
      "cell_type": "code",
      "source": [
        "# Go over the different values of k\n",
        "# For each k, fit the model and compute the accuracy \n",
        "# on both train and test set\n",
        "# Save the results to plot them after\n",
        "\n",
        "\"\"\" Your code here \"\"\"\n",
        "\n",
        "# Plot\n",
        "\"\"\" Your code here \"\"\""
      ],
      "metadata": {
        "id": "Kc7R0s_rPXeb"
      },
      "execution_count": null,
      "outputs": []
    },
    {
      "cell_type": "markdown",
      "source": [
        "What can you say about the performance of the linear classifier and the KNN classifier for this particular data distribution?\n",
        "\n",
        "\n"
      ],
      "metadata": {
        "id": "olKF5VadrJ7_"
      }
    },
    {
      "cell_type": "markdown",
      "source": [
        "Now let us change the data generation process and repeat the last steps with simply two classes produced by two multivariate normals $\\mathcal{N}((1,0), \\mathbb{I}/5)$ and $\\mathcal{N}((1,0), \\mathbb{I}/5)$.\n",
        "\n",
        "Train the linear classifier and the KNN, and repeat the plot from the previous step"
      ],
      "metadata": {
        "id": "7-QmQO4juGeA"
      }
    },
    {
      "cell_type": "code",
      "source": [
        "def generate_blobs(N = 100, seed = 111):\n",
        "    # Set seed\n",
        "    rs = RandomState(MT19937(SeedSequence(seed)))\n",
        "    \"\"\" Your code here \"\"\"\n",
        "    return X, Y\n",
        "\n",
        "\n",
        "# Data\n",
        "X, Y = generate_blobs(100)\n",
        "\n",
        "# Linear classifier (Define and fit)\n",
        "\"\"\" Your code here \"\"\"\n",
        "\n",
        "\n",
        "# KNN \n",
        "# Define and repeat the fit and evaluation going over the different values of k\n",
        "\"\"\" Your code here \"\"\"\n",
        "\n",
        "# Plot\n",
        "\"\"\" Your code here \"\"\""
      ],
      "metadata": {
        "id": "MlRcyaiHuQw3"
      },
      "execution_count": null,
      "outputs": []
    },
    {
      "cell_type": "markdown",
      "source": [
        "Lastly, repeat the same plot you already did of the data and the KNN decision function but with the new dataset"
      ],
      "metadata": {
        "id": "uHhVk9F99p7p"
      }
    },
    {
      "cell_type": "code",
      "source": [
        "\"\"\" Your code here \"\"\""
      ],
      "metadata": {
        "id": "GyQ5tXnXvM33"
      },
      "execution_count": null,
      "outputs": []
    },
    {
      "cell_type": "markdown",
      "source": [
        "# Overfitting and underfitting\n",
        "\n",
        "To see the effect of under and overfitting we are going to create data using a degree 5 polynomial and adding some noise to the samples.\n",
        "\n",
        "We are going to estimate a linear model using polynomials of degree 1 to 10. In each case we are going to measure the error on the training and test set \n",
        "\n",
        "1. Generate random data using an Uniform distribution in the interval $(-2, 2)$. Remember to create a train and test set\n",
        "2. Define the real $\\beta$ (coefficients of the polynomial)\n",
        "3. Fit a model with degree 10\n",
        "4. Plot the original data and the predictions made the degree 10 model"
      ],
      "metadata": {
        "id": "VUhH-52wTNJM"
      }
    },
    {
      "cell_type": "code",
      "source": [
        "# Generate data (X, Y)\n",
        "rs = RandomState(MT19937(SeedSequence(2111)))\n",
        "\"\"\" Your code here \"\"\"\n",
        "\n",
        "# Fit polynomial\n",
        "# Use a linear model over an augmented X\n",
        "# This means to consider nor only X but all the powers of X\n",
        "# For each observation x we are going to consider the variables\n",
        "# 1, x, x², x³, x⁴ .... \n",
        "\"\"\" Your code here \"\"\"\n",
        "\n",
        "# Plot\n",
        "\"\"\" Your code here \"\"\""
      ],
      "metadata": {
        "id": "czlENasjULZi"
      },
      "execution_count": null,
      "outputs": []
    },
    {
      "cell_type": "markdown",
      "source": [
        "## Now test the model using new data.\n",
        "\n",
        "1. Plot the [mean squared error](https://scikit-learn.org/stable/modules/generated/sklearn.metrics.mean_squared_error.html) on the train and test set as a function of the degree."
      ],
      "metadata": {
        "id": "kZ8gc9TgYArm"
      }
    },
    {
      "cell_type": "code",
      "source": [
        "# Generate test data\n",
        "\"\"\" Your code here \"\"\"\n",
        "\n",
        "# Fit polynomial for each degree and save the MSE for plotting later\n",
        "MSEs_train = []\n",
        "MSEs_test = []\n",
        "degrees = range(1, 10)\n",
        "\"\"\" Your code here \"\"\"\n",
        "\n",
        "\n",
        "# Plot\n",
        "\"\"\" Your code here \"\"\""
      ],
      "metadata": {
        "id": "nonZUGbmU_HP"
      },
      "execution_count": null,
      "outputs": []
    },
    {
      "cell_type": "markdown",
      "source": [
        "1. What do you observe? What degree would you choose for the final model?\n",
        "\n",
        "2. Plot the original points and the polynomials obtained using a model with degree 1, 5 and 10\n",
        "\n",
        "*Hint: If the axis limits are getting to large, set them manually*"
      ],
      "metadata": {
        "id": "QOlCQbh0zLj7"
      }
    },
    {
      "cell_type": "code",
      "source": [
        "\"\"\" Your code here \"\"\""
      ],
      "metadata": {
        "id": "5K25nAA_Zfgk"
      },
      "execution_count": null,
      "outputs": []
    }
  ]
}